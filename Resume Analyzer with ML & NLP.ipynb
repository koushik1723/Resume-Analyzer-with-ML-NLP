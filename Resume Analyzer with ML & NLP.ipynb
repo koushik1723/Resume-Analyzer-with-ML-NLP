{
 "cells": [
  {
   "cell_type": "markdown",
   "id": "06ce8a38-f46b-4664-8356-f068e810e1f3",
   "metadata": {},
   "source": [
    "###  Importing Required Libraries\n"
   ]
  },
  {
   "cell_type": "code",
   "execution_count": 49,
   "id": "849bc725-3d2b-4772-8549-82ec4d57db01",
   "metadata": {},
   "outputs": [],
   "source": [
    "\n",
    "import numpy as np\n",
    "import pandas as pd\n",
    "import matplotlib.pyplot as plt\n",
    "import seaborn as sns"
   ]
  },
  {
   "cell_type": "markdown",
   "id": "492f74b0-6d29-4542-a975-95a5a4d2d5b8",
   "metadata": {},
   "source": [
    "### 📂 Loading the Dataset"
   ]
  },
  {
   "cell_type": "code",
   "execution_count": 50,
   "id": "9eda8064-a172-4355-b554-f5e881ffe27c",
   "metadata": {},
   "outputs": [],
   "source": [
    "df = pd.read_csv(r\"C:\\Users\\krish\\OneDrive\\Desktop\\Resume_screnning\\UpdatedResumeDataSet.csv\", encoding='ISO-8859-1', on_bad_lines='skip')\n"
   ]
  },
  {
   "cell_type": "code",
   "execution_count": 51,
   "id": "2717edd0-f290-443c-9b3d-4975a8623378",
   "metadata": {},
   "outputs": [
    {
     "data": {
      "text/html": [
       "<div>\n",
       "<style scoped>\n",
       "    .dataframe tbody tr th:only-of-type {\n",
       "        vertical-align: middle;\n",
       "    }\n",
       "\n",
       "    .dataframe tbody tr th {\n",
       "        vertical-align: top;\n",
       "    }\n",
       "\n",
       "    .dataframe thead th {\n",
       "        text-align: right;\n",
       "    }\n",
       "</style>\n",
       "<table border=\"1\" class=\"dataframe\">\n",
       "  <thead>\n",
       "    <tr style=\"text-align: right;\">\n",
       "      <th></th>\n",
       "      <th>Category</th>\n",
       "      <th>Resume</th>\n",
       "    </tr>\n",
       "  </thead>\n",
       "  <tbody>\n",
       "    <tr>\n",
       "      <th>0</th>\n",
       "      <td>Data Science</td>\n",
       "      <td>Skills * Programming Languages: Python (pandas...</td>\n",
       "    </tr>\n",
       "    <tr>\n",
       "      <th>1</th>\n",
       "      <td>Data Science</td>\n",
       "      <td>Education Details \\r\\nMay 2013 to May 2017 B.E...</td>\n",
       "    </tr>\n",
       "    <tr>\n",
       "      <th>2</th>\n",
       "      <td>Data Science</td>\n",
       "      <td>Areas of Interest Deep Learning, Control Syste...</td>\n",
       "    </tr>\n",
       "    <tr>\n",
       "      <th>3</th>\n",
       "      <td>Data Science</td>\n",
       "      <td>Skills Ã¢ÂÂ¢ R Ã¢ÂÂ¢ Python Ã¢ÂÂ¢ SAP HANA ...</td>\n",
       "    </tr>\n",
       "    <tr>\n",
       "      <th>4</th>\n",
       "      <td>Data Science</td>\n",
       "      <td>Education Details \\r\\n MCA   YMCAUST,  Faridab...</td>\n",
       "    </tr>\n",
       "    <tr>\n",
       "      <th>5</th>\n",
       "      <td>Data Science</td>\n",
       "      <td>SKILLS C Basics, IOT, Python, MATLAB, Data Sci...</td>\n",
       "    </tr>\n",
       "    <tr>\n",
       "      <th>6</th>\n",
       "      <td>Data Science</td>\n",
       "      <td>Skills Ã¢ÂÂ¢ Python Ã¢ÂÂ¢ Tableau Ã¢ÂÂ¢ Dat...</td>\n",
       "    </tr>\n",
       "    <tr>\n",
       "      <th>7</th>\n",
       "      <td>Data Science</td>\n",
       "      <td>Education Details \\r\\n B.Tech   Rayat and Bahr...</td>\n",
       "    </tr>\n",
       "    <tr>\n",
       "      <th>8</th>\n",
       "      <td>Data Science</td>\n",
       "      <td>Personal Skills Ã¢ÂÂ¢ Ability to quickly gras...</td>\n",
       "    </tr>\n",
       "    <tr>\n",
       "      <th>9</th>\n",
       "      <td>Data Science</td>\n",
       "      <td>Expertise Ã¢ÂÂ Data and Quantitative Analysi...</td>\n",
       "    </tr>\n",
       "  </tbody>\n",
       "</table>\n",
       "</div>"
      ],
      "text/plain": [
       "       Category                                             Resume\n",
       "0  Data Science  Skills * Programming Languages: Python (pandas...\n",
       "1  Data Science  Education Details \\r\\nMay 2013 to May 2017 B.E...\n",
       "2  Data Science  Areas of Interest Deep Learning, Control Syste...\n",
       "3  Data Science  Skills Ã¢ÂÂ¢ R Ã¢ÂÂ¢ Python Ã¢ÂÂ¢ SAP HANA ...\n",
       "4  Data Science  Education Details \\r\\n MCA   YMCAUST,  Faridab...\n",
       "5  Data Science  SKILLS C Basics, IOT, Python, MATLAB, Data Sci...\n",
       "6  Data Science  Skills Ã¢ÂÂ¢ Python Ã¢ÂÂ¢ Tableau Ã¢ÂÂ¢ Dat...\n",
       "7  Data Science  Education Details \\r\\n B.Tech   Rayat and Bahr...\n",
       "8  Data Science  Personal Skills Ã¢ÂÂ¢ Ability to quickly gras...\n",
       "9  Data Science  Expertise Ã¢ÂÂ Data and Quantitative Analysi..."
      ]
     },
     "execution_count": 51,
     "metadata": {},
     "output_type": "execute_result"
    }
   ],
   "source": [
    "\n",
    "df.head(10)\n",
    "     "
   ]
  },
  {
   "cell_type": "code",
   "execution_count": 52,
   "id": "b0ee049d-e60f-4e2e-9517-e05075f835d0",
   "metadata": {},
   "outputs": [
    {
     "data": {
      "text/plain": [
       "(962, 2)"
      ]
     },
     "execution_count": 52,
     "metadata": {},
     "output_type": "execute_result"
    }
   ],
   "source": [
    "\n",
    "df.shape"
   ]
  },
  {
   "cell_type": "markdown",
   "id": "29ab4bf4-6832-4a73-ab84-477f724623f9",
   "metadata": {},
   "source": [
    "### 🧾 Dataset Summary Using `df.info()`"
   ]
  },
  {
   "cell_type": "code",
   "execution_count": 53,
   "id": "3192c2de-b25f-44f8-bfbf-207fd0018f58",
   "metadata": {},
   "outputs": [
    {
     "name": "stdout",
     "output_type": "stream",
     "text": [
      "<class 'pandas.core.frame.DataFrame'>\n",
      "RangeIndex: 962 entries, 0 to 961\n",
      "Data columns (total 2 columns):\n",
      " #   Column    Non-Null Count  Dtype \n",
      "---  ------    --------------  ----- \n",
      " 0   Category  962 non-null    object\n",
      " 1   Resume    962 non-null    object\n",
      "dtypes: object(2)\n",
      "memory usage: 15.2+ KB\n"
     ]
    }
   ],
   "source": [
    "df.info()"
   ]
  },
  {
   "cell_type": "markdown",
   "id": "9433b8cc-bb69-41bf-b99a-1a193ba7aa35",
   "metadata": {},
   "source": [
    "###  📊 Resume Category Distribution"
   ]
  },
  {
   "cell_type": "code",
   "execution_count": 54,
   "id": "647b503e-630d-4c5a-a15a-f8422c9f259c",
   "metadata": {},
   "outputs": [
    {
     "data": {
      "text/plain": [
       "Category\n",
       "Java Developer               84\n",
       "Testing                      70\n",
       "DevOps Engineer              55\n",
       "Python Developer             48\n",
       "Web Designing                45\n",
       "HR                           44\n",
       "Hadoop                       42\n",
       "Blockchain                   40\n",
       "ETL Developer                40\n",
       "Operations Manager           40\n",
       "Data Science                 40\n",
       "Sales                        40\n",
       "Mechanical Engineer          40\n",
       "Arts                         36\n",
       "Database                     33\n",
       "Electrical Engineering       30\n",
       "Health and fitness           30\n",
       "PMO                          30\n",
       "Business Analyst             28\n",
       "DotNet Developer             28\n",
       "Automation Testing           26\n",
       "Network Security Engineer    25\n",
       "SAP Developer                24\n",
       "Civil Engineer               24\n",
       "Advocate                     20\n",
       "Name: count, dtype: int64"
      ]
     },
     "execution_count": 54,
     "metadata": {},
     "output_type": "execute_result"
    }
   ],
   "source": [
    "df['Category'].value_counts()"
   ]
  },
  {
   "cell_type": "markdown",
   "id": "a3ef83b8-a0ad-4bed-9b11-cc58b981b5ac",
   "metadata": {},
   "source": [
    "### 📈 Visualization of Resume Category Distribution"
   ]
  },
  {
   "cell_type": "code",
   "execution_count": 55,
   "id": "1d1a99eb-e1a0-4b36-868b-27aca44a60ed",
   "metadata": {},
   "outputs": [
    {
     "data": {
      "image/png": "[encoded data removed]",
      "text/plain": [
       "<Figure size 1500x500 with 1 Axes>"
      ]
     },
     "metadata": {},
     "output_type": "display_data"
    }
   ],
   "source": [
    "\n",
    "plt.figure(figsize=(15,5))\n",
    "sns.countplot(x='Category', data=df)\n",
    "plt.xticks(rotation=90)\n",
    "plt.show()"
   ]
  },
  {
   "cell_type": "code",
   "execution_count": 56,
   "id": "76a9911a-dcf8-40b4-b7ae-2e666034fabd",
   "metadata": {},
   "outputs": [],
   "source": [
    "counts = df['Category'].value_counts()\n",
    "labels = df['Category'].unique()"
   ]
  },
  {
   "cell_type": "code",
   "execution_count": 57,
   "id": "03578432-87de-4caa-ba37-a49b54af9b83",
   "metadata": {
    "scrolled": true
   },
   "outputs": [
    {
     "name": "stdout",
     "output_type": "stream",
     "text": [
      "['Data Science' 'HR' 'Advocate' 'Arts' 'Web Designing'\n",
      " 'Mechanical Engineer' 'Sales' 'Health and fitness' 'Civil Engineer'\n",
      " 'Java Developer' 'Business Analyst' 'SAP Developer' 'Automation Testing'\n",
      " 'Electrical Engineering' 'Operations Manager' 'Python Developer'\n",
      " 'DevOps Engineer' 'Network Security Engineer' 'PMO' 'Database' 'Hadoop'\n",
      " 'ETL Developer' 'DotNet Developer' 'Blockchain' 'Testing']\n"
     ]
    }
   ],
   "source": [
    "print(labels)"
   ]
  },
  {
   "cell_type": "markdown",
   "id": "8b6e9833-e556-4e19-adf6-64e3ade8d5e3",
   "metadata": {},
   "source": [
    "### 🥧 Resume Category Distribution - Pie Chart"
   ]
  },
  {
   "cell_type": "code",
   "execution_count": 58,
   "id": "833cbd11-4d18-435f-9aa8-d318450920dd",
   "metadata": {},
   "outputs": [
    {
     "data": {
      "image/png": "[encoded data removed]",
      "text/plain": [
       "<Figure size 640x480 with 1 Axes>"
      ]
     },
     "metadata": {},
     "output_type": "display_data"
    }
   ],
   "source": [
    "plt.pie(counts,labels=labels, autopct='%1.1f%%', colors=plt.cm.coolwarm(np.linspace(0,1,3)))\n",
    "plt.show()"
   ]
  },
  {
   "cell_type": "code",
   "execution_count": 14,
   "id": "e2204c56-4e8a-4df1-b3e7-1cb222ade883",
   "metadata": {},
   "outputs": [
    {
     "data": {
      "text/plain": [
       "'Data Science'"
      ]
     },
     "execution_count": 14,
     "metadata": {},
     "output_type": "execute_result"
    }
   ],
   "source": [
    "df['Category'][0]"
   ]
  },
  {
   "cell_type": "code",
   "execution_count": 15,
   "id": "864b41e4-1504-475d-80d1-6e27f4a1a741",
   "metadata": {},
   "outputs": [
    {
     "data": {
      "text/plain": [
       "'Skills * Programming Languages: Python (pandas, numpy, scipy, scikit-learn, matplotlib), Sql, Java, JavaScript/JQuery. * Machine learning: Regression, SVM, NaÃ\\x83Â¯ve Bayes, KNN, Random Forest, Decision Trees, Boosting techniques, Cluster Analysis, Word Embedding, Sentiment Analysis, Natural Language processing, Dimensionality reduction, Topic Modelling (LDA, NMF), PCA & Neural Nets. * Database Visualizations: Mysql, SqlServer, Cassandra, Hbase, ElasticSearch D3.js, DC.js, Plotly, kibana, matplotlib, ggplot, Tableau. * Others: Regular Expression, HTML, CSS, Angular 6, Logstash, Kafka, Python Flask, Git, Docker, computer vision - Open CV and understanding of Deep learning.Education Details \\r\\n\\r\\nData Science Assurance Associate \\r\\n\\r\\nData Science Assurance Associate - Ernst & Young LLP\\r\\nSkill Details \\r\\nJAVASCRIPT- Exprience - 24 months\\r\\njQuery- Exprience - 24 months\\r\\nPython- Exprience - 24 monthsCompany Details \\r\\ncompany - Ernst & Young LLP\\r\\ndescription - Fraud Investigations and Dispute Services   Assurance\\r\\nTECHNOLOGY ASSISTED REVIEW\\r\\nTAR (Technology Assisted Review) assists in accelerating the review process and run analytics and generate reports.\\r\\n* Core member of a team helped in developing automated review platform tool from scratch for assisting E discovery domain, this tool implements predictive coding and topic modelling by automating reviews, resulting in reduced labor costs and time spent during the lawyers review.\\r\\n* Understand the end to end flow of the solution, doing research and development for classification models, predictive analysis and mining of the information present in text data. Worked on analyzing the outputs and precision monitoring for the entire tool.\\r\\n* TAR assists in predictive coding, topic modelling from the evidence by following EY standards. Developed the classifier models in order to identify \"red flags\" and fraud-related issues.\\r\\n\\r\\nTools & Technologies: Python, scikit-learn, tfidf, word2vec, doc2vec, cosine similarity, NaÃ\\x83Â¯ve Bayes, LDA, NMF for topic modelling, Vader and text blob for sentiment analysis. Matplot lib, Tableau dashboard for reporting.\\r\\n\\r\\nMULTIPLE DATA SCIENCE AND ANALYTIC PROJECTS (USA CLIENTS)\\r\\nTEXT ANALYTICS - MOTOR VEHICLE CUSTOMER REVIEW DATA * Received customer feedback survey data for past one year. Performed sentiment (Positive, Negative & Neutral) and time series analysis on customer comments across all 4 categories.\\r\\n* Created heat map of terms by survey category based on frequency of words * Extracted Positive and Negative words across all the Survey categories and plotted Word cloud.\\r\\n* Created customized tableau dashboards for effective reporting and visualizations.\\r\\nCHATBOT * Developed a user friendly chatbot for one of our Products which handle simple questions about hours of operation, reservation options and so on.\\r\\n* This chat bot serves entire product related questions. Giving overview of tool via QA platform and also give recommendation responses so that user question to build chain of relevant answer.\\r\\n* This too has intelligence to build the pipeline of questions as per user requirement and asks the relevant /recommended questions.\\r\\n\\r\\nTools & Technologies: Python, Natural language processing, NLTK, spacy, topic modelling, Sentiment analysis, Word Embedding, scikit-learn, JavaScript/JQuery, SqlServer\\r\\n\\r\\nINFORMATION GOVERNANCE\\r\\nOrganizations to make informed decisions about all of the information they store. The integrated Information Governance portfolio synthesizes intelligence across unstructured data sources and facilitates action to ensure organizations are best positioned to counter information risk.\\r\\n* Scan data from multiple sources of formats and parse different file formats, extract Meta data information, push results for indexing elastic search and created customized, interactive dashboards using kibana.\\r\\n* Preforming ROT Analysis on the data which give information of data which helps identify content that is either Redundant, Outdated, or Trivial.\\r\\n* Preforming full-text search analysis on elastic search with predefined methods which can tag as (PII) personally identifiable information (social security numbers, addresses, names, etc.) which frequently targeted during cyber-attacks.\\r\\nTools & Technologies: Python, Flask, Elastic Search, Kibana\\r\\n\\r\\nFRAUD ANALYTIC PLATFORM\\r\\nFraud Analytics and investigative platform to review all red flag cases.\\r\\nÃ¢Â\\x80Â¢ FAP is a Fraud Analytics and investigative platform with inbuilt case manager and suite of Analytics for various ERP systems.\\r\\n* It can be used by clients to interrogate their Accounting systems for identifying the anomalies which can be indicators of fraud by running advanced analytics\\r\\nTools & Technologies: HTML, JavaScript, SqlServer, JQuery, CSS, Bootstrap, Node.js, D3.js, DC.js'"
      ]
     },
     "execution_count": 15,
     "metadata": {},
     "output_type": "execute_result"
    }
   ],
   "source": [
    "\n",
    "df['Resume'][0]"
   ]
  },
  {
   "cell_type": "markdown",
   "id": "db5a2878-3f86-4187-a2a8-de3bfe93fabf",
   "metadata": {},
   "source": [
    "### 🧹 Text Preprocessing: Cleaning Resume Text\n"
   ]
  },
  {
   "cell_type": "code",
   "execution_count": 16,
   "id": "e78de57b-6bee-4591-843b-7690ec951ffb",
   "metadata": {},
   "outputs": [],
   "source": [
    "\n",
    "import re\n",
    "def cleanResume(txt):\n",
    "  cleanTxt = re.sub('http\\S+\\s',' ', txt)\n",
    "  cleanTxt = re.sub('@\\S+',' ',cleanTxt)\n",
    "  cleanTxt = re.sub('#\\S+',' ',cleanTxt)\n",
    "  cleanTxt = re.sub('\\s+',' ',cleanTxt)\n",
    "  cleanTxt = re.sub('RT|cc', ' ', cleanTxt)\n",
    "  cleanTxt = re.sub('[%s]' % re.escape(\"\"\"!\"#$%&'()*+,-./:;<=>?@[\\]^_`{|}~\"\"\"), ' ', cleanTxt)\n",
    "  cleanTxt = re.sub(r'[^\\x00-\\x7f]', ' ', cleanTxt)\n",
    "\n",
    "  return cleanTxt"
   ]
  },
  {
   "cell_type": "code",
   "execution_count": 17,
   "id": "bade1f70-5d09-4be3-ad88-09fca33b317f",
   "metadata": {},
   "outputs": [
    {
     "data": {
      "text/plain": [
       "'Skills   Programming Languages  Python  pandas  numpy  scipy  scikit learn  matplotlib   Sql  Java  JavaScript JQuery    Machine learning  Regression  SVM  Na    ve Bayes  KNN  Random Forest  Decision Trees  Boosting techniques  Cluster Analysis  Word Embedding  Sentiment Analysis  Natural Language processing  Dimensionality reduction  Topic Modelling  LDA  NMF   PCA   Neural Nets    Database Visualizations  Mysql  SqlServer  Cassandra  Hbase  ElasticSearch D3 js  DC js  Plotly  kibana  matplotlib  ggplot  Tableau    Others  Regular Expression  HTML  CSS  Angular 6  Logstash  Kafka  Python Flask  Git  Docker  computer vision   Open CV and understanding of Deep learning Education Details Data Science Assurance Associate Data Science Assurance Associate   Ernst   Young LLP Skill Details JAVASCRIPT  Exprience   24 months jQuery  Exprience   24 months Python  Exprience   24 monthsCompany Details company   Ernst   Young LLP description   Fraud Investigations and Dispute Services Assurance TECHNOLOGY ASSISTED REVIEW TAR  Technology Assisted Review  assists in a elerating the review process and run analytics and generate reports    Core member of a team helped in developing automated review platform tool from scratch for assisting E discovery domain  this tool implements predictive coding and topic modelling by automating reviews  resulting in reduced labor costs and time spent during the lawyers review    Understand the end to end flow of the solution  doing research and development for classification models  predictive analysis and mining of the information present in text data  Worked on analyzing the outputs and precision monitoring for the entire tool    TAR assists in predictive coding  topic modelling from the evidence by following EY standards  Developed the classifier models in order to identify  red flags  and fraud related issues  Tools   Technologies  Python  scikit learn  tfidf  word2vec  doc2vec  cosine similarity  Na    ve Bayes  LDA  NMF for topic modelling  Vader and text blob for sentiment analysis  Matplot lib  Tableau dashboard for reporting  MULTIPLE DATA SCIENCE AND ANALYTIC PROJECTS  USA CLIENTS  TEXT ANALYTICS   MOTOR VEHICLE CUSTOMER REVIEW DATA   Received customer feedback survey data for past one year  Performed sentiment  Positive  Negative   Neutral  and time series analysis on customer comments across all 4 categories    Created heat map of terms by survey category based on frequency of words   Extracted Positive and Negative words across all the Survey categories and plotted Word cloud    Created customized tableau dashboards for effective reporting and visualizations  CHATBOT   Developed a user friendly chatbot for one of our Products which handle simple questions about hours of operation  reservation options and so on    This chat bot serves entire product related questions  Giving overview of tool via QA platform and also give recommendation responses so that user question to build chain of relevant answer    This too has intelligence to build the pipeline of questions as per user requirement and asks the relevant  recommended questions  Tools   Technologies  Python  Natural language processing  NLTK  spacy  topic modelling  Sentiment analysis  Word Embedding  scikit learn  JavaScript JQuery  SqlServer INFORMATION GOVERNANCE Organizations to make informed decisions about all of the information they store  The integrated Information Governance portfolio synthesizes intelligence across unstructured data sources and facilitates action to ensure organizations are best positioned to counter information risk    Scan data from multiple sources of formats and parse different file formats  extract Meta data information  push results for indexing elastic search and created customized  interactive dashboards using kibana    Preforming ROT Analysis on the data which give information of data which helps identify content that is either Redundant  Outdated  or Trivial    Preforming full text search analysis on elastic search with predefined methods which can tag as  PII  personally identifiable information  social security numbers  addresses  names  etc   which frequently targeted during cyber attacks  Tools   Technologies  Python  Flask  Elastic Search  Kibana FRAUD ANALYTIC PLATFORM Fraud Analytics and investigative platform to review all red flag cases         FAP is a Fraud Analytics and investigative platform with inbuilt case manager and suite of Analytics for various ERP systems    It can be used by clients to interrogate their A ounting systems for identifying the anomalies which can be indicators of fraud by running advanced analytics Tools   Technologies  HTML  JavaScript  SqlServer  JQuery  CSS  Bootstrap  Node js  D3 js  DC js'"
      ]
     },
     "execution_count": 17,
     "metadata": {},
     "output_type": "execute_result"
    }
   ],
   "source": [
    "\n",
    "cleanResume(df['Resume'][0])"
   ]
  },
  {
   "cell_type": "code",
   "execution_count": 18,
   "id": "82f60b46-a193-43f2-9706-56218f73381e",
   "metadata": {},
   "outputs": [],
   "source": [
    "df['Resume'] = df['Resume'].apply(lambda x: cleanResume(x))"
   ]
  },
  {
   "cell_type": "code",
   "execution_count": 19,
   "id": "3854df32-5a6c-4137-b658-7757f82da4d7",
   "metadata": {},
   "outputs": [
    {
     "data": {
      "text/plain": [
       "0      Data Science\n",
       "1      Data Science\n",
       "2      Data Science\n",
       "3      Data Science\n",
       "4      Data Science\n",
       "           ...     \n",
       "957         Testing\n",
       "958         Testing\n",
       "959         Testing\n",
       "960         Testing\n",
       "961         Testing\n",
       "Name: Category, Length: 962, dtype: object"
      ]
     },
     "execution_count": 19,
     "metadata": {},
     "output_type": "execute_result"
    }
   ],
   "source": [
    "\n",
    "df['Category']"
   ]
  },
  {
   "cell_type": "markdown",
   "id": "6b33d60e-e4d0-4552-a73f-c629dcace232",
   "metadata": {},
   "source": [
    "### 🔢 Label Encoding of Resume Categories"
   ]
  },
  {
   "cell_type": "code",
   "execution_count": 20,
   "id": "037b8935-0c37-48ea-904b-ef85aa243211",
   "metadata": {},
   "outputs": [],
   "source": [
    "\n",
    "from sklearn.preprocessing import LabelEncoder\n",
    "le = LabelEncoder()\n",
    "df['Category'] = le.fit_transform(df['Category'])"
   ]
  },
  {
   "cell_type": "code",
   "execution_count": 21,
   "id": "8dd07b78-f200-4823-a92c-98fab1e770d1",
   "metadata": {},
   "outputs": [
    {
     "data": {
      "text/html": [
       "<div>\n",
       "<style scoped>\n",
       "    .dataframe tbody tr th:only-of-type {\n",
       "        vertical-align: middle;\n",
       "    }\n",
       "\n",
       "    .dataframe tbody tr th {\n",
       "        vertical-align: top;\n",
       "    }\n",
       "\n",
       "    .dataframe thead th {\n",
       "        text-align: right;\n",
       "    }\n",
       "</style>\n",
       "<table border=\"1\" class=\"dataframe\">\n",
       "  <thead>\n",
       "    <tr style=\"text-align: right;\">\n",
       "      <th></th>\n",
       "      <th>Category</th>\n",
       "      <th>Resume</th>\n",
       "    </tr>\n",
       "  </thead>\n",
       "  <tbody>\n",
       "    <tr>\n",
       "      <th>0</th>\n",
       "      <td>6</td>\n",
       "      <td>Skills   Programming Languages  Python  pandas...</td>\n",
       "    </tr>\n",
       "    <tr>\n",
       "      <th>1</th>\n",
       "      <td>6</td>\n",
       "      <td>Education Details May 2013 to May 2017 B E UIT...</td>\n",
       "    </tr>\n",
       "    <tr>\n",
       "      <th>2</th>\n",
       "      <td>6</td>\n",
       "      <td>Areas of Interest Deep Learning  Control Syste...</td>\n",
       "    </tr>\n",
       "    <tr>\n",
       "      <th>3</th>\n",
       "      <td>6</td>\n",
       "      <td>Skills        R        Python        SAP HANA ...</td>\n",
       "    </tr>\n",
       "    <tr>\n",
       "      <th>4</th>\n",
       "      <td>6</td>\n",
       "      <td>Education Details MCA YMCAUST  Faridabad  Hary...</td>\n",
       "    </tr>\n",
       "    <tr>\n",
       "      <th>...</th>\n",
       "      <td>...</td>\n",
       "      <td>...</td>\n",
       "    </tr>\n",
       "    <tr>\n",
       "      <th>957</th>\n",
       "      <td>23</td>\n",
       "      <td>Computer Skills         Proficient in MS offic...</td>\n",
       "    </tr>\n",
       "    <tr>\n",
       "      <th>958</th>\n",
       "      <td>23</td>\n",
       "      <td>Willingness to a ept the challenges    ...</td>\n",
       "    </tr>\n",
       "    <tr>\n",
       "      <th>959</th>\n",
       "      <td>23</td>\n",
       "      <td>PERSONAL SKILLS        Quick learner         E...</td>\n",
       "    </tr>\n",
       "    <tr>\n",
       "      <th>960</th>\n",
       "      <td>23</td>\n",
       "      <td>COMPUTER SKILLS   SOFTWARE KNOWLEDGE MS Power ...</td>\n",
       "    </tr>\n",
       "    <tr>\n",
       "      <th>961</th>\n",
       "      <td>23</td>\n",
       "      <td>Skill Set OS Windows XP 7 8 8 1 10 Database MY...</td>\n",
       "    </tr>\n",
       "  </tbody>\n",
       "</table>\n",
       "<p>962 rows × 2 columns</p>\n",
       "</div>"
      ],
      "text/plain": [
       "     Category                                             Resume\n",
       "0           6  Skills   Programming Languages  Python  pandas...\n",
       "1           6  Education Details May 2013 to May 2017 B E UIT...\n",
       "2           6  Areas of Interest Deep Learning  Control Syste...\n",
       "3           6  Skills        R        Python        SAP HANA ...\n",
       "4           6  Education Details MCA YMCAUST  Faridabad  Hary...\n",
       "..        ...                                                ...\n",
       "957        23  Computer Skills         Proficient in MS offic...\n",
       "958        23         Willingness to a ept the challenges    ...\n",
       "959        23  PERSONAL SKILLS        Quick learner         E...\n",
       "960        23  COMPUTER SKILLS   SOFTWARE KNOWLEDGE MS Power ...\n",
       "961        23  Skill Set OS Windows XP 7 8 8 1 10 Database MY...\n",
       "\n",
       "[962 rows x 2 columns]"
      ]
     },
     "execution_count": 21,
     "metadata": {},
     "output_type": "execute_result"
    }
   ],
   "source": [
    "df"
   ]
  },
  {
   "cell_type": "code",
   "execution_count": 22,
   "id": "13bf6d6d-6d87-4acf-b3dc-3f6f20b24e0b",
   "metadata": {},
   "outputs": [
    {
     "data": {
      "text/plain": [
       "array([ 6, 12,  0,  1, 24, 16, 22, 14,  5, 15,  4, 21,  2, 11, 18, 20,  8,\n",
       "       17, 19,  7, 13, 10,  9,  3, 23])"
      ]
     },
     "execution_count": 22,
     "metadata": {},
     "output_type": "execute_result"
    }
   ],
   "source": [
    "df.Category.unique()"
   ]
  },
  {
   "cell_type": "code",
   "execution_count": null,
   "id": "42712f95-9abd-42ce-9b1e-49d81ab743f1",
   "metadata": {},
   "outputs": [],
   "source": [
    "\n",
    "\n",
    "# ['Data Science' 'HR' 'Advocate' 'Arts' 'Web Designing'\n",
    "#  'Mechanical Engineer' 'Sales' 'Health and fitness' 'Civil Engineer'\n",
    "#  'Java Developer' 'Business Analyst' 'SAP Developer' 'Automation Testing'\n",
    "#  'Electrical Engineering' 'Operations Manager' 'Python Developer'\n",
    "#  'DevOps Engineer' 'Network Security Engineer' 'PMO' 'Database' 'Hadoop'\n",
    "#  'ETL Developer' 'DotNet Developer' 'Blockchain' 'Testing']"
   ]
  },
  {
   "cell_type": "markdown",
   "id": "aef59f04-a858-4674-85d8-296b5ee2fd5f",
   "metadata": {},
   "source": [
    "### 🧠 TF-IDF Vectorization"
   ]
  },
  {
   "cell_type": "code",
   "execution_count": 23,
   "id": "9bf04812-3580-4902-9b85-b4c16491db1d",
   "metadata": {},
   "outputs": [],
   "source": [
    "\n",
    "from sklearn.feature_extraction.text import TfidfVectorizer\n",
    "tfidf = TfidfVectorizer(stop_words='english')\n",
    "\n",
    "tfidf.fit(df['Resume'])\n",
    "requiredText = tfidf.transform(df['Resume'])\n",
    "     \n"
   ]
  },
  {
   "cell_type": "code",
   "execution_count": 24,
   "id": "19b29883-a874-47cd-8f25-bcef21ad29a1",
   "metadata": {},
   "outputs": [
    {
     "data": {
      "text/html": [
       "<div>\n",
       "<style scoped>\n",
       "    .dataframe tbody tr th:only-of-type {\n",
       "        vertical-align: middle;\n",
       "    }\n",
       "\n",
       "    .dataframe tbody tr th {\n",
       "        vertical-align: top;\n",
       "    }\n",
       "\n",
       "    .dataframe thead th {\n",
       "        text-align: right;\n",
       "    }\n",
       "</style>\n",
       "<table border=\"1\" class=\"dataframe\">\n",
       "  <thead>\n",
       "    <tr style=\"text-align: right;\">\n",
       "      <th></th>\n",
       "      <th>Category</th>\n",
       "      <th>Resume</th>\n",
       "    </tr>\n",
       "  </thead>\n",
       "  <tbody>\n",
       "    <tr>\n",
       "      <th>0</th>\n",
       "      <td>6</td>\n",
       "      <td>Skills   Programming Languages  Python  pandas...</td>\n",
       "    </tr>\n",
       "    <tr>\n",
       "      <th>1</th>\n",
       "      <td>6</td>\n",
       "      <td>Education Details May 2013 to May 2017 B E UIT...</td>\n",
       "    </tr>\n",
       "    <tr>\n",
       "      <th>2</th>\n",
       "      <td>6</td>\n",
       "      <td>Areas of Interest Deep Learning  Control Syste...</td>\n",
       "    </tr>\n",
       "    <tr>\n",
       "      <th>3</th>\n",
       "      <td>6</td>\n",
       "      <td>Skills        R        Python        SAP HANA ...</td>\n",
       "    </tr>\n",
       "    <tr>\n",
       "      <th>4</th>\n",
       "      <td>6</td>\n",
       "      <td>Education Details MCA YMCAUST  Faridabad  Hary...</td>\n",
       "    </tr>\n",
       "    <tr>\n",
       "      <th>...</th>\n",
       "      <td>...</td>\n",
       "      <td>...</td>\n",
       "    </tr>\n",
       "    <tr>\n",
       "      <th>957</th>\n",
       "      <td>23</td>\n",
       "      <td>Computer Skills         Proficient in MS offic...</td>\n",
       "    </tr>\n",
       "    <tr>\n",
       "      <th>958</th>\n",
       "      <td>23</td>\n",
       "      <td>Willingness to a ept the challenges    ...</td>\n",
       "    </tr>\n",
       "    <tr>\n",
       "      <th>959</th>\n",
       "      <td>23</td>\n",
       "      <td>PERSONAL SKILLS        Quick learner         E...</td>\n",
       "    </tr>\n",
       "    <tr>\n",
       "      <th>960</th>\n",
       "      <td>23</td>\n",
       "      <td>COMPUTER SKILLS   SOFTWARE KNOWLEDGE MS Power ...</td>\n",
       "    </tr>\n",
       "    <tr>\n",
       "      <th>961</th>\n",
       "      <td>23</td>\n",
       "      <td>Skill Set OS Windows XP 7 8 8 1 10 Database MY...</td>\n",
       "    </tr>\n",
       "  </tbody>\n",
       "</table>\n",
       "<p>962 rows × 2 columns</p>\n",
       "</div>"
      ],
      "text/plain": [
       "     Category                                             Resume\n",
       "0           6  Skills   Programming Languages  Python  pandas...\n",
       "1           6  Education Details May 2013 to May 2017 B E UIT...\n",
       "2           6  Areas of Interest Deep Learning  Control Syste...\n",
       "3           6  Skills        R        Python        SAP HANA ...\n",
       "4           6  Education Details MCA YMCAUST  Faridabad  Hary...\n",
       "..        ...                                                ...\n",
       "957        23  Computer Skills         Proficient in MS offic...\n",
       "958        23         Willingness to a ept the challenges    ...\n",
       "959        23  PERSONAL SKILLS        Quick learner         E...\n",
       "960        23  COMPUTER SKILLS   SOFTWARE KNOWLEDGE MS Power ...\n",
       "961        23  Skill Set OS Windows XP 7 8 8 1 10 Database MY...\n",
       "\n",
       "[962 rows x 2 columns]"
      ]
     },
     "execution_count": 24,
     "metadata": {},
     "output_type": "execute_result"
    }
   ],
   "source": [
    "df"
   ]
  },
  {
   "cell_type": "markdown",
   "id": "33f95222-9692-4df9-9724-57ad7db30eac",
   "metadata": {},
   "source": [
    "### ✂️ Splitting Data into Train and Test Sets"
   ]
  },
  {
   "cell_type": "code",
   "execution_count": 25,
   "id": "69ca66aa-c568-4f77-b288-e7e0790c1e21",
   "metadata": {},
   "outputs": [],
   "source": [
    "\n",
    "from sklearn.model_selection import train_test_split\n",
    "X_train, X_test, y_train, y_test = train_test_split(requiredText, df['Category'], test_size=0.2, random_state=42)"
   ]
  },
  {
   "cell_type": "code",
   "execution_count": 26,
   "id": "8e6d5828-487c-4090-b3d7-c9f9ba3bb767",
   "metadata": {},
   "outputs": [
    {
     "name": "stdout",
     "output_type": "stream",
     "text": [
      "(769, 7351)\n",
      "(193, 7351)\n"
     ]
    }
   ],
   "source": [
    "\n",
    "print(X_train.shape)\n",
    "print(X_test.shape)\n",
    "     "
   ]
  },
  {
   "cell_type": "markdown",
   "id": "478008f8-3f6c-40b1-a44a-83e3f2787199",
   "metadata": {},
   "source": [
    "### Training K-Nearest Neighbors (KNN) Classifier\n"
   ]
  },
  {
   "cell_type": "code",
   "execution_count": 27,
   "id": "d2c88b59-9188-468b-b3b3-faf6ac087a75",
   "metadata": {},
   "outputs": [
    {
     "name": "stdout",
     "output_type": "stream",
     "text": [
      "0.9844559585492227\n"
     ]
    }
   ],
   "source": [
    "from sklearn.neighbors import KNeighborsClassifier\n",
    "from sklearn.multiclass import OneVsRestClassifier\n",
    "from sklearn.metrics import accuracy_score\n",
    "\n",
    "clf = KNeighborsClassifier()\n",
    "clf.fit(X_train,y_train)\n",
    "ypred = clf.predict(X_test)\n",
    "print(accuracy_score(y_test,ypred))"
   ]
  },
  {
   "cell_type": "markdown",
   "id": "4252b946-9580-4514-8685-c0cd65e1089d",
   "metadata": {},
   "source": [
    "### 💾 Saving the Model and Vectorizer with Pickle\n"
   ]
  },
  {
   "cell_type": "code",
   "execution_count": 28,
   "id": "d09ed6b3-a934-496a-a508-8a2af2fbc251",
   "metadata": {},
   "outputs": [],
   "source": [
    "\n",
    "import pickle\n",
    "pickle.dump(tfidf,open('tfidf.pkl','wb'))\n",
    "pickle.dump(clf,open('clf.pkl','wb'))"
   ]
  },
  {
   "cell_type": "code",
   "execution_count": 29,
   "id": "4603cda2-3ef0-4d02-9c7e-ffedc7cc4cd9",
   "metadata": {},
   "outputs": [],
   "source": [
    "myResume =\"\"\"  \n",
    "Krishna Koushik\n",
    " Krishna Koushik\n",
    " krishnakoushik1707@gmail.com \n",
    "Krishna Koushik \n",
    "Results-driven engineering student with a strong foundation in data analytics, artificial intelligence (AI), and business\n",
    " intelligence (BI). Proficient in Python, Java, and SQL, with hands-on experience in building interactive dashboards using\n",
    " Power BI and Excel. Passionate about leveraging machine learning, generative AI, and cloud technologies such as Microsoft\n",
    " Azure to develop scalable, data-driven solutions. Skilled in problem-solving, data processing, and model implementation,\n",
    " with a keen interest in contributing to impactful AI-powered applications.\n",
    " Technical Skills\n",
    " Languages: Python(Data Structures and Algorithms), Java, SQL, R.\n",
    " Data Analysis: Power BI, Microsoft Excel, Pandas, NumPy, Statistics, EDA.\n",
    " Machine Learning & AI: Scikit-learn, Generative AI, Prompt Engineering, Natural Language Processing.\n",
    " Tools: GitHub, Jupyter Notebook, Google Colab, Visual Studio Code.\n",
    " Course Work: Data Structures and Algorithms, Object Oriented Programming, Database Management Systems,\n",
    " Operating Systems, AI and ML, Cloud Computing- AWS S3.\n",
    " Soft Skills\n",
    " • Strong communication, effective leadership, and proven adaptability in guiding teams through dynamic challenges.\n",
    " Skilled in team collaboration, consistently contributing to group objectives and shared accomplishments.\n",
    " • Proven problem-solving abilities with a results-oriented mindset, supported by clear report writing and confident\n",
    " presentation skills to aid decision-making and ensure project alignment.\n",
    " Projects\n",
    " Superstore Interactive Sales & Profit Dashboard\n",
    " • Built an interactive Excel dashboard to provide a 360° view of Superstore sales data, enabling business users to analyze\n",
    " sales, profit, ROI, and discount impact across categories, regions, cities, and time periods.\n",
    " • Focused on transforming raw data into actionable insights through structured analysis and visual storytelling.\n",
    " • Technologies: Microsoft Excel, Pivot Tables, Charts, Slicers, Formulas.\n",
    " HR performance and attrition dashboard\n",
    " • Designed and developed a dynamic HR analytics dashboard in Power BI to analyze key workforce metrics such as\n",
    " attrition rate, employee satisfaction, salary distribution across departments, age groups and education backgrounds.\n",
    " • Used Power Query for data cleaning and DAX for creating calculated KPIs.\n",
    " • Technologies: Power BI, DAX, Power Query, CSV.\n",
    " Education\n",
    " Vellore Institute of Technology, Andhra Pradesh\n",
    " Bachelor of Technology in Computer Science and Engineering(AIML)\n",
    " Raju Junior College, Allen Career Institute, Tirupati\n",
    " Senior Secondary (XII)\n",
    " Sri Raju High School, Rayachoty\n",
    " Secondary (X)\n",
    " Achievements\n",
    " 2022– 2026\n",
    " CGPA: 8.37\n",
    " 2021– 2022\n",
    " Percentage: 91\n",
    " 2019– 2020\n",
    " Percentage: 100\n",
    " • LeetCode: 1592 max-rated and solved 110+ problems. Profile: Krishna Koushik\n",
    " • Data Analytics Virtual Internship– Deloitte (via Forage) click here\n",
    " Completed a real-world data analytics job simulation focused on data analysis and business problem-solving- May 202 \"\"\""
   ]
  },
  {
   "cell_type": "markdown",
   "id": "db4f3922-45ad-46e8-874e-0e166f802d00",
   "metadata": {},
   "source": [
    "### 🧠 Predicting Job Category from Resume Text"
   ]
  },
  {
   "cell_type": "code",
   "execution_count": 48,
   "id": "8801b86c-2e7e-4801-9f25-f3eb20ec3fb4",
   "metadata": {},
   "outputs": [
    {
     "name": "stdout",
     "output_type": "stream",
     "text": [
      "Predicted Category: Data Science\n",
      "6\n"
     ]
    }
   ],
   "source": [
    "import pickle\n",
    "\n",
    "#Load the trained classifier\n",
    "clf = pickle.load(open('clf.pkl', 'rb'))\n",
    "\n",
    "#clean the input resume\n",
    "cleaned_resume = cleanResume(myResume)\n",
    "\n",
    "input_features = tfidf.transform([cleaned_resume])\n",
    "\n",
    "prediction_id = clf.predict(input_features)[0]\n",
    "\n",
    "category_mapping = {\n",
    "    15: \"Java Developer\",\n",
    "    23: \"Testing\",\n",
    "    8: \"DevOps Engineer\",\n",
    "    20: \"Python Developer\",\n",
    "    24: \"Web Designing\",\n",
    "    12: \"HR\",\n",
    "    13: \"Hadoop\",\n",
    "    3: \"Blockchain\",\n",
    "    10: \"ETL Developer\",\n",
    "    18: \"Operations Manager\",\n",
    "    6: \"Data Science\",\n",
    "    22: \"Sales\",\n",
    "    16: \"Mechanical Engineer\",\n",
    "    1: \"Arts\",\n",
    "    7: \"Database\",\n",
    "    11: \"Electrical Engineering\",\n",
    "    14: \"Health and fitness\",\n",
    "    19: \"PMO\",\n",
    "    4: \"Business Analyst\",\n",
    "    9: \"DotNet Developer\",\n",
    "    2: \"Automation Testing\",\n",
    "    17: \"Network Security Engineer\",\n",
    "    21: \"SAP Developer\",\n",
    "    5: \"Civil Engineer\",\n",
    "    0: \"Advocate\",\n",
    "    25: \"AI Engineer\",\n",
    "}\n",
    "\n",
    "category_name = category_mapping.get(prediction_id, \"Unknown\")\n",
    "\n",
    "print(\"Predicted Category:\", category_name)\n",
    "\n",
    "print(prediction_id)"
   ]
  },
  {
   "cell_type": "code",
   "execution_count": null,
   "id": "94af1b46-c338-4893-bea0-ef8359e47f9b",
   "metadata": {},
   "outputs": [],
   "source": []
  }
 ],
 "metadata": {
  "kernelspec": {
   "display_name": "Python (gesture-env)",
   "language": "python",
   "name": "gesture-env"
  },
  "language_info": {
   "codemirror_mode": {
    "name": "ipython",
    "version": 3
   },
   "file_extension": ".py",
   "mimetype": "text/x-python",
   "name": "python",
   "nbconvert_exporter": "python",
   "pygments_lexer": "ipython3",
   "version": "3.10.0"
  }
 },
 "nbformat": 4,
 "nbformat_minor": 5
}
